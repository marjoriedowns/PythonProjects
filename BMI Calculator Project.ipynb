{
 "cells": [
  {
   "cell_type": "markdown",
   "id": "6b6ad584-3099-47e4-985f-399f3cab46df",
   "metadata": {},
   "source": [
    "# BMI Calculator"
   ]
  },
  {
   "cell_type": "code",
   "execution_count": null,
   "id": "fa7de118-34c5-4af4-b6d2-1038a2f3ac78",
   "metadata": {},
   "outputs": [],
   "source": [
    "name = input(\"Enter your name: \")\n",
    "\n",
    "weight = float(input(\"Enter your weight in pounds: \"))\n",
    "\n",
    "height = float(input(\"Enter your height in inches: \"))\n",
    "\n",
    "BMI = (weight * 703)/(height * height)\n",
    "\n",
    "print(BMI)\n",
    "\n",
    "if BMI>0:\n",
    "    if(BMI<=18.5):\n",
    "        print(name +\", you're underweight.\")\n",
    "    elif(BMI<=24.9):\n",
    "        print(name +\", you're normal weight.\")\n",
    "    elif(BMI<=29.9):\n",
    "        print(name +\", you're overweight.\")\n",
    "    elif(BMI<=34.9):\n",
    "        print(name +\", you're obese.\")\n",
    "    elif(BMI<=39.9):\n",
    "        print(name +\", you're severely obese.\")\n",
    "    else:\n",
    "        print(name +\", you're morbily obese.\")\n",
    "else:\n",
    "    print(\"Enter valid inputs\")"
   ]
  },
  {
   "cell_type": "code",
   "execution_count": null,
   "id": "019ae0bb-988d-43de-b01f-d2e16e5e84e6",
   "metadata": {},
   "outputs": [],
   "source": []
  }
 ],
 "metadata": {
  "kernelspec": {
   "display_name": "Python 3 (ipykernel)",
   "language": "python",
   "name": "python3"
  },
  "language_info": {
   "codemirror_mode": {
    "name": "ipython",
    "version": 3
   },
   "file_extension": ".py",
   "mimetype": "text/x-python",
   "name": "python",
   "nbconvert_exporter": "python",
   "pygments_lexer": "ipython3",
   "version": "3.12.4"
  }
 },
 "nbformat": 4,
 "nbformat_minor": 5
}
