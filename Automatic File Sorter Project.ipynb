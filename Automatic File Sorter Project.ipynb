{
 "cells": [
  {
   "cell_type": "markdown",
   "id": "f53e7b17-6a51-4e5d-acda-eb9d08bb147d",
   "metadata": {},
   "source": [
    "# Automatic File Sorter in File Explorer"
   ]
  },
  {
   "cell_type": "code",
   "execution_count": 1,
   "id": "06b352ca-0563-4af6-8314-740d7b978bb0",
   "metadata": {},
   "outputs": [],
   "source": [
    "import os, shutil"
   ]
  },
  {
   "cell_type": "code",
   "execution_count": 3,
   "id": "f6216a90-983c-4bc4-a5b6-76617c3cb956",
   "metadata": {},
   "outputs": [],
   "source": [
    "path = r\"C:/Users/Marjorie/Downloads/\""
   ]
  },
  {
   "cell_type": "code",
   "execution_count": 5,
   "id": "1927db55-de8b-405d-851c-3e3193781a3f",
   "metadata": {},
   "outputs": [],
   "source": [
    "file_name = os.listdir(path)"
   ]
  },
  {
   "cell_type": "code",
   "execution_count": 7,
   "id": "b31c1ac6-00f2-497c-a58a-7fafa14aadf2",
   "metadata": {},
   "outputs": [],
   "source": [
    "folder_names = ['documents files','images files','pdf files']\n",
    "\n",
    "for loop in range(0,3):\n",
    "    if not os.path.exists(path + folder_names[loop]):\n",
    "        os.makedirs(path + folder_names[loop])\n",
    "\n",
    "for file in file_name:\n",
    "    if (\".xlsx\" and \".docx\" and \".csv\") in file and not os.path.exists(path + \"documents files/\" + file):\n",
    "        shutil.move(path + file, path + \"documents files/\" + file)\n",
    "    elif \".jpg\" in file and not os.path.exists(path + \"images files/\" + file):\n",
    "        shutil.move(path + file, path + \"images files/\" + file)\n",
    "    elif \".pdf\" in file and not os.path.exists(path + \"pdf files/\" + file):\n",
    "        shutil.move(path + file, path + \"pdf files/\" + file)"
   ]
  },
  {
   "cell_type": "code",
   "execution_count": null,
   "id": "8b07dcab-f9a7-411d-8182-115dd6e9a0db",
   "metadata": {},
   "outputs": [],
   "source": []
  }
 ],
 "metadata": {
  "kernelspec": {
   "display_name": "Python 3 (ipykernel)",
   "language": "python",
   "name": "python3"
  },
  "language_info": {
   "codemirror_mode": {
    "name": "ipython",
    "version": 3
   },
   "file_extension": ".py",
   "mimetype": "text/x-python",
   "name": "python",
   "nbconvert_exporter": "python",
   "pygments_lexer": "ipython3",
   "version": "3.12.4"
  }
 },
 "nbformat": 4,
 "nbformat_minor": 5
}
